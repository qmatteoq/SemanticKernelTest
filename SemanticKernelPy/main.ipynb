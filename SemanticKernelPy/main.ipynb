{
 "cells": [
  {
   "cell_type": "code",
   "execution_count": null,
   "metadata": {},
   "outputs": [],
   "source": [
    "pip install semantic-kernel"
   ]
  },
  {
   "cell_type": "code",
   "execution_count": 2,
   "metadata": {},
   "outputs": [],
   "source": [
    "class WebSearchEngineSkill:\n",
    "    \"\"\"\n",
    "    A search engine skill.\n",
    "    \"\"\"\n",
    "    from semantic_kernel.orchestration.sk_context import SKContext\n",
    "    from semantic_kernel.skill_definition import sk_function, sk_function_context_parameter\n",
    "\n",
    "    def __init__(self, connector) -> None:\n",
    "        self._connector = connector\n",
    "\n",
    "    @sk_function(\n",
    "        description=\"Performs a web search for a given query\", name=\"searchAsync\"\n",
    "    )\n",
    "    @sk_function_context_parameter(\n",
    "        name=\"query\",\n",
    "        description=\"The search query\",\n",
    "    )\n",
    "    async def search_async(self, query: str, context: SKContext) -> str:\n",
    "        query = query or context.variables.get(\"query\")[1]\n",
    "        result = await self._connector.search_async(query, num_results=5, offset=0)\n",
    "        return str(result)"
   ]
  },
  {
   "cell_type": "code",
   "execution_count": 3,
   "metadata": {},
   "outputs": [
    {
     "name": "stdout",
     "output_type": "stream",
     "text": [
      "{\n",
      "    \"input\": \"Proposal for Semantic Kernel presentation at technical conference\",\n",
      "    \"subtasks\": [\n",
      "        {\"function\": \"WebSearch.searchAsync\", \"args\": {\"query\": \"Semantic Kernel in business applications\"}},\n",
      "        {\"function\": \"MailSkill.MailGeneratorFunction\"},\n",
      "        {\"function\": \"_GLOBAL_FUNCTIONS_.f_bf72dc49_a137_41bf_a055_b4e73577845f\", \"args\": {\"available_functions\": [\"WebSearch.searchAsync\"], \"goal\": \"Write a clear and concise email proposing a Semantic Kernel presentation at a technical conference using recent information from the web.\"}}\n",
      "    ]\n",
      "}\n",
      "Dear [Recipient],\n",
      "\n",
      "I am pleased to inform you that Semantic Kernel will be part of the Microsoft BUILD 2023 conference, which will take place from <strong>May 23rd to May 25th</strong>. We are excited to present at BUILD and showcase how Semantic Kernel can help you increase productivity for yourself and your team.\n",
      "\n",
      "In the midst of the daily buzz about advanced AI, Microsoft is dedicating two sessions at next week's Build 2023 developer conference to its open-source Semantic Kernel offering. This offering helps developers use AI large language models (LLMs) in their apps. The sessions will take place on <strong>May 18th, 2023</strong>.\n",
      "\n",
      "At the recent Microsoft Build 2023 developer conference, Microsoft unveiled its latest AI solutions. During the conference, there was also a Q&A session for Semantic Kernel titled \"Building an AI Copilot with Semantic Kernel in the GPT-4 era, Q&A.\"\n",
      "\n",
      "We will continue to innovate and provide updates on Semantic Kernel. In the meantime, please watch our BUILD 2023 Semantic Kernel keynote video (https://aka.ms/sk-build23) and visit our learn site (https://aka.ms/sk/learn) to get started.\n",
      "\n",
      "Thank you for your time and attention.\n",
      "\n",
      "Best regards,\n",
      "\n",
      "AI Assistant\n"
     ]
    }
   ],
   "source": [
    "import semantic_kernel as sk\n",
    "from semantic_kernel.connectors.ai.open_ai import OpenAIChatCompletion, AzureChatCompletion\n",
    "from semantic_kernel.planning.basic_planner import BasicPlanner\n",
    "from semantic_kernel.connectors.search_engine import BingConnector\n",
    "from dotenv import load_dotenv, find_dotenv\n",
    "\n",
    "kernel = sk.Kernel()\n",
    "\n",
    "deployment, api_key, endpoint = sk.azure_openai_settings_from_dot_env()\n",
    "kernel.add_chat_service(\"dv\", AzureChatCompletion(deployment, endpoint, api_key))\n",
    "\n",
    "skills_directory = \"../skills/\"\n",
    "summarize_skill = kernel.import_semantic_skill_from_directory(skills_directory, \"MailSkill\")\n",
    "writer_skill = kernel.import_semantic_skill_from_directory(skills_directory, \"TechSkill\")\n",
    "\n",
    "BING_API_KEY = sk.bing_search_settings_from_dot_env()\n",
    "connector = BingConnector(BING_API_KEY)\n",
    "kernel.import_skill(WebSearchEngineSkill(connector), skill_name=\"WebSearch\")\n",
    "\n",
    "ask = \"\"\"\n",
    "Write a mail to propose a presentation aboout Semantic kernel in business apps at a technical conference. The mail should be clear and concise. Use the web to get recent information on the topic.\"\"\"\n",
    "\n",
    "\n",
    "topic = \"\"\"\n",
    "Semantic Kernel in business apps\"\"\"\n",
    "\n",
    "planner = BasicPlanner()\n",
    "basic_plan = await planner.create_plan_async(ask, kernel)\n",
    "\n",
    "print(basic_plan.generated_plan)\n",
    "\n",
    "results = await planner.execute_plan_async(basic_plan, kernel)\n",
    "print(results)"
   ]
  }
 ],
 "metadata": {
  "kernelspec": {
   "display_name": "Python 3",
   "language": "python",
   "name": "python3"
  },
  "language_info": {
   "codemirror_mode": {
    "name": "ipython",
    "version": 3
   },
   "file_extension": ".py",
   "mimetype": "text/x-python",
   "name": "python",
   "nbconvert_exporter": "python",
   "pygments_lexer": "ipython3",
   "version": "3.11.6"
  }
 },
 "nbformat": 4,
 "nbformat_minor": 2
}
